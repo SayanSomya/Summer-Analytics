{
  "nbformat": 4,
  "nbformat_minor": 0,
  "metadata": {
    "colab": {
      "provenance": []
    },
    "kernelspec": {
      "name": "python3",
      "display_name": "Python 3"
    },
    "language_info": {
      "name": "python"
    }
  },
  "cells": [
    {
      "cell_type": "markdown",
      "source": [
        "**Welcome to your first assignment of Summer Analytics 2023! We hope you are excited to implement and test everything you have learnt up until now.<a href = \"https://drive.google.com/file/d/1U73P58VAc4EXM98Or9feKnVx9I9FOP_L/view?usp=sharing\"> The dataset</a> which you'll use includes information about Movies.**"
      ],
      "metadata": {
        "id": "7t7O3hPJQQ1h"
      }
    },
    {
      "cell_type": "markdown",
      "source": [
        " We've got an interesting set of questions for you to get a basic understanding of pandas and data visualization libraries. GOOD LUCK!\n",
        "\n",
        "Let's get started with importing numpy, pandas, seaborn and matplotlib!"
      ],
      "metadata": {
        "id": "8yDZv8F_QiqH"
      }
    },
    {
      "cell_type": "markdown",
      "source": [
        "Note - matplotlib should be imported with the command :\n",
        "\n",
        "**import matplotlib.pyplot as plt**"
      ],
      "metadata": {
        "id": "p-nMuCNQQxx_"
      }
    },
    {
      "cell_type": "markdown",
      "source": [
        "Start by importing all important libraries"
      ],
      "metadata": {
        "id": "nz8BTfnCRC8v"
      }
    },
    {
      "cell_type": "code",
      "execution_count": null,
      "metadata": {
        "id": "rKkyeMJiO0up"
      },
      "outputs": [],
      "source": [
        "import numpy as np\n",
        "import pandas as pd\n",
        "import seaborn as sns\n",
        "import matplotlib.pyplot as plt\n"
      ]
    },
    {
      "cell_type": "markdown",
      "source": [
        "Read the csv file and assign it to a variable ."
      ],
      "metadata": {
        "id": "2N8LabERRONN"
      }
    },
    {
      "cell_type": "code",
      "source": [
        "movies=pd.read_csv('/content/imdb_top_1000.csv')\n",
        "movies"
      ],
      "metadata": {
        "id": "vnjh3IZmRO72",
        "outputId": "4a9f8309-c505-4815-876f-0247e6b3bf4d",
        "colab": {
          "base_uri": "https://localhost:8080/",
          "height": 1000
        }
      },
      "execution_count": null,
      "outputs": [
        {
          "output_type": "execute_result",
          "data": {
            "text/plain": [
              "                                           Poster_Link  \\\n",
              "0    https://m.media-amazon.com/images/M/MV5BMDFkYT...   \n",
              "1    https://m.media-amazon.com/images/M/MV5BM2MyNj...   \n",
              "2    https://m.media-amazon.com/images/M/MV5BMTMxNT...   \n",
              "3    https://m.media-amazon.com/images/M/MV5BMWMwMG...   \n",
              "4    https://m.media-amazon.com/images/M/MV5BMWU4N2...   \n",
              "..                                                 ...   \n",
              "995  https://m.media-amazon.com/images/M/MV5BNGEwMT...   \n",
              "996  https://m.media-amazon.com/images/M/MV5BODk3Yj...   \n",
              "997  https://m.media-amazon.com/images/M/MV5BM2U3Yz...   \n",
              "998  https://m.media-amazon.com/images/M/MV5BZTBmMj...   \n",
              "999  https://m.media-amazon.com/images/M/MV5BMTY5OD...   \n",
              "\n",
              "                 Series_Title Released_Year Certificate  Runtime  \\\n",
              "0    The Shawshank Redemption          1994           A  142 min   \n",
              "1               The Godfather          1972           A  175 min   \n",
              "2             The Dark Knight          2008          UA  152 min   \n",
              "3      The Godfather: Part II          1974           A  202 min   \n",
              "4                12 Angry Men          1957           U   96 min   \n",
              "..                        ...           ...         ...      ...   \n",
              "995    Breakfast at Tiffany's          1961           A  115 min   \n",
              "996                     Giant          1956           G  201 min   \n",
              "997     From Here to Eternity          1953      Passed  118 min   \n",
              "998                  Lifeboat          1944         NaN   97 min   \n",
              "999              The 39 Steps          1935         NaN   86 min   \n",
              "\n",
              "                        Genre  IMDB_Rating  \\\n",
              "0                       Drama          9.3   \n",
              "1                Crime, Drama          9.2   \n",
              "2        Action, Crime, Drama          9.0   \n",
              "3                Crime, Drama          9.0   \n",
              "4                Crime, Drama          9.0   \n",
              "..                        ...          ...   \n",
              "995    Comedy, Drama, Romance          7.6   \n",
              "996            Drama, Western          7.6   \n",
              "997       Drama, Romance, War          7.6   \n",
              "998                Drama, War          7.6   \n",
              "999  Crime, Mystery, Thriller          7.6   \n",
              "\n",
              "                                              Overview  Meta_score  \\\n",
              "0    Two imprisoned men bond over a number of years...        80.0   \n",
              "1    An organized crime dynasty's aging patriarch t...       100.0   \n",
              "2    When the menace known as the Joker wreaks havo...        84.0   \n",
              "3    The early life and career of Vito Corleone in ...        90.0   \n",
              "4    A jury holdout attempts to prevent a miscarria...        96.0   \n",
              "..                                                 ...         ...   \n",
              "995  A young New York socialite becomes interested ...        76.0   \n",
              "996  Sprawling epic covering the life of a Texas ca...        84.0   \n",
              "997  In Hawaii in 1941, a private is cruelly punish...        85.0   \n",
              "998  Several survivors of a torpedoed merchant ship...        78.0   \n",
              "999  A man in London tries to help a counter-espion...        93.0   \n",
              "\n",
              "                 Director              Star1              Star2  \\\n",
              "0          Frank Darabont        Tim Robbins     Morgan Freeman   \n",
              "1    Francis Ford Coppola      Marlon Brando          Al Pacino   \n",
              "2       Christopher Nolan     Christian Bale       Heath Ledger   \n",
              "3    Francis Ford Coppola          Al Pacino     Robert De Niro   \n",
              "4            Sidney Lumet        Henry Fonda        Lee J. Cobb   \n",
              "..                    ...                ...                ...   \n",
              "995         Blake Edwards     Audrey Hepburn     George Peppard   \n",
              "996        George Stevens   Elizabeth Taylor        Rock Hudson   \n",
              "997        Fred Zinnemann     Burt Lancaster   Montgomery Clift   \n",
              "998      Alfred Hitchcock  Tallulah Bankhead        John Hodiak   \n",
              "999      Alfred Hitchcock       Robert Donat  Madeleine Carroll   \n",
              "\n",
              "              Star3           Star4  No_of_Votes        Gross  \n",
              "0        Bob Gunton  William Sadler      2343110   28,341,469  \n",
              "1        James Caan    Diane Keaton      1620367  134,966,411  \n",
              "2     Aaron Eckhart   Michael Caine      2303232  534,858,444  \n",
              "3     Robert Duvall    Diane Keaton      1129952   57,300,000  \n",
              "4     Martin Balsam    John Fiedler       689845    4,360,000  \n",
              "..              ...             ...          ...          ...  \n",
              "995   Patricia Neal     Buddy Ebsen       166544          NaN  \n",
              "996      James Dean   Carroll Baker        34075          NaN  \n",
              "997    Deborah Kerr      Donna Reed        43374   30,500,000  \n",
              "998   Walter Slezak  William Bendix        26471          NaN  \n",
              "999  Lucie Mannheim  Godfrey Tearle        51853          NaN  \n",
              "\n",
              "[1000 rows x 16 columns]"
            ],
            "text/html": [
              "\n",
              "  <div id=\"df-7d4a09a3-110c-44ac-9482-4e6a93c5d68b\">\n",
              "    <div class=\"colab-df-container\">\n",
              "      <div>\n",
              "<style scoped>\n",
              "    .dataframe tbody tr th:only-of-type {\n",
              "        vertical-align: middle;\n",
              "    }\n",
              "\n",
              "    .dataframe tbody tr th {\n",
              "        vertical-align: top;\n",
              "    }\n",
              "\n",
              "    .dataframe thead th {\n",
              "        text-align: right;\n",
              "    }\n",
              "</style>\n",
              "<table border=\"1\" class=\"dataframe\">\n",
              "  <thead>\n",
              "    <tr style=\"text-align: right;\">\n",
              "      <th></th>\n",
              "      <th>Poster_Link</th>\n",
              "      <th>Series_Title</th>\n",
              "      <th>Released_Year</th>\n",
              "      <th>Certificate</th>\n",
              "      <th>Runtime</th>\n",
              "      <th>Genre</th>\n",
              "      <th>IMDB_Rating</th>\n",
              "      <th>Overview</th>\n",
              "      <th>Meta_score</th>\n",
              "      <th>Director</th>\n",
              "      <th>Star1</th>\n",
              "      <th>Star2</th>\n",
              "      <th>Star3</th>\n",
              "      <th>Star4</th>\n",
              "      <th>No_of_Votes</th>\n",
              "      <th>Gross</th>\n",
              "    </tr>\n",
              "  </thead>\n",
              "  <tbody>\n",
              "    <tr>\n",
              "      <th>0</th>\n",
              "      <td>https://m.media-amazon.com/images/M/MV5BMDFkYT...</td>\n",
              "      <td>The Shawshank Redemption</td>\n",
              "      <td>1994</td>\n",
              "      <td>A</td>\n",
              "      <td>142 min</td>\n",
              "      <td>Drama</td>\n",
              "      <td>9.3</td>\n",
              "      <td>Two imprisoned men bond over a number of years...</td>\n",
              "      <td>80.0</td>\n",
              "      <td>Frank Darabont</td>\n",
              "      <td>Tim Robbins</td>\n",
              "      <td>Morgan Freeman</td>\n",
              "      <td>Bob Gunton</td>\n",
              "      <td>William Sadler</td>\n",
              "      <td>2343110</td>\n",
              "      <td>28,341,469</td>\n",
              "    </tr>\n",
              "    <tr>\n",
              "      <th>1</th>\n",
              "      <td>https://m.media-amazon.com/images/M/MV5BM2MyNj...</td>\n",
              "      <td>The Godfather</td>\n",
              "      <td>1972</td>\n",
              "      <td>A</td>\n",
              "      <td>175 min</td>\n",
              "      <td>Crime, Drama</td>\n",
              "      <td>9.2</td>\n",
              "      <td>An organized crime dynasty's aging patriarch t...</td>\n",
              "      <td>100.0</td>\n",
              "      <td>Francis Ford Coppola</td>\n",
              "      <td>Marlon Brando</td>\n",
              "      <td>Al Pacino</td>\n",
              "      <td>James Caan</td>\n",
              "      <td>Diane Keaton</td>\n",
              "      <td>1620367</td>\n",
              "      <td>134,966,411</td>\n",
              "    </tr>\n",
              "    <tr>\n",
              "      <th>2</th>\n",
              "      <td>https://m.media-amazon.com/images/M/MV5BMTMxNT...</td>\n",
              "      <td>The Dark Knight</td>\n",
              "      <td>2008</td>\n",
              "      <td>UA</td>\n",
              "      <td>152 min</td>\n",
              "      <td>Action, Crime, Drama</td>\n",
              "      <td>9.0</td>\n",
              "      <td>When the menace known as the Joker wreaks havo...</td>\n",
              "      <td>84.0</td>\n",
              "      <td>Christopher Nolan</td>\n",
              "      <td>Christian Bale</td>\n",
              "      <td>Heath Ledger</td>\n",
              "      <td>Aaron Eckhart</td>\n",
              "      <td>Michael Caine</td>\n",
              "      <td>2303232</td>\n",
              "      <td>534,858,444</td>\n",
              "    </tr>\n",
              "    <tr>\n",
              "      <th>3</th>\n",
              "      <td>https://m.media-amazon.com/images/M/MV5BMWMwMG...</td>\n",
              "      <td>The Godfather: Part II</td>\n",
              "      <td>1974</td>\n",
              "      <td>A</td>\n",
              "      <td>202 min</td>\n",
              "      <td>Crime, Drama</td>\n",
              "      <td>9.0</td>\n",
              "      <td>The early life and career of Vito Corleone in ...</td>\n",
              "      <td>90.0</td>\n",
              "      <td>Francis Ford Coppola</td>\n",
              "      <td>Al Pacino</td>\n",
              "      <td>Robert De Niro</td>\n",
              "      <td>Robert Duvall</td>\n",
              "      <td>Diane Keaton</td>\n",
              "      <td>1129952</td>\n",
              "      <td>57,300,000</td>\n",
              "    </tr>\n",
              "    <tr>\n",
              "      <th>4</th>\n",
              "      <td>https://m.media-amazon.com/images/M/MV5BMWU4N2...</td>\n",
              "      <td>12 Angry Men</td>\n",
              "      <td>1957</td>\n",
              "      <td>U</td>\n",
              "      <td>96 min</td>\n",
              "      <td>Crime, Drama</td>\n",
              "      <td>9.0</td>\n",
              "      <td>A jury holdout attempts to prevent a miscarria...</td>\n",
              "      <td>96.0</td>\n",
              "      <td>Sidney Lumet</td>\n",
              "      <td>Henry Fonda</td>\n",
              "      <td>Lee J. Cobb</td>\n",
              "      <td>Martin Balsam</td>\n",
              "      <td>John Fiedler</td>\n",
              "      <td>689845</td>\n",
              "      <td>4,360,000</td>\n",
              "    </tr>\n",
              "    <tr>\n",
              "      <th>...</th>\n",
              "      <td>...</td>\n",
              "      <td>...</td>\n",
              "      <td>...</td>\n",
              "      <td>...</td>\n",
              "      <td>...</td>\n",
              "      <td>...</td>\n",
              "      <td>...</td>\n",
              "      <td>...</td>\n",
              "      <td>...</td>\n",
              "      <td>...</td>\n",
              "      <td>...</td>\n",
              "      <td>...</td>\n",
              "      <td>...</td>\n",
              "      <td>...</td>\n",
              "      <td>...</td>\n",
              "      <td>...</td>\n",
              "    </tr>\n",
              "    <tr>\n",
              "      <th>995</th>\n",
              "      <td>https://m.media-amazon.com/images/M/MV5BNGEwMT...</td>\n",
              "      <td>Breakfast at Tiffany's</td>\n",
              "      <td>1961</td>\n",
              "      <td>A</td>\n",
              "      <td>115 min</td>\n",
              "      <td>Comedy, Drama, Romance</td>\n",
              "      <td>7.6</td>\n",
              "      <td>A young New York socialite becomes interested ...</td>\n",
              "      <td>76.0</td>\n",
              "      <td>Blake Edwards</td>\n",
              "      <td>Audrey Hepburn</td>\n",
              "      <td>George Peppard</td>\n",
              "      <td>Patricia Neal</td>\n",
              "      <td>Buddy Ebsen</td>\n",
              "      <td>166544</td>\n",
              "      <td>NaN</td>\n",
              "    </tr>\n",
              "    <tr>\n",
              "      <th>996</th>\n",
              "      <td>https://m.media-amazon.com/images/M/MV5BODk3Yj...</td>\n",
              "      <td>Giant</td>\n",
              "      <td>1956</td>\n",
              "      <td>G</td>\n",
              "      <td>201 min</td>\n",
              "      <td>Drama, Western</td>\n",
              "      <td>7.6</td>\n",
              "      <td>Sprawling epic covering the life of a Texas ca...</td>\n",
              "      <td>84.0</td>\n",
              "      <td>George Stevens</td>\n",
              "      <td>Elizabeth Taylor</td>\n",
              "      <td>Rock Hudson</td>\n",
              "      <td>James Dean</td>\n",
              "      <td>Carroll Baker</td>\n",
              "      <td>34075</td>\n",
              "      <td>NaN</td>\n",
              "    </tr>\n",
              "    <tr>\n",
              "      <th>997</th>\n",
              "      <td>https://m.media-amazon.com/images/M/MV5BM2U3Yz...</td>\n",
              "      <td>From Here to Eternity</td>\n",
              "      <td>1953</td>\n",
              "      <td>Passed</td>\n",
              "      <td>118 min</td>\n",
              "      <td>Drama, Romance, War</td>\n",
              "      <td>7.6</td>\n",
              "      <td>In Hawaii in 1941, a private is cruelly punish...</td>\n",
              "      <td>85.0</td>\n",
              "      <td>Fred Zinnemann</td>\n",
              "      <td>Burt Lancaster</td>\n",
              "      <td>Montgomery Clift</td>\n",
              "      <td>Deborah Kerr</td>\n",
              "      <td>Donna Reed</td>\n",
              "      <td>43374</td>\n",
              "      <td>30,500,000</td>\n",
              "    </tr>\n",
              "    <tr>\n",
              "      <th>998</th>\n",
              "      <td>https://m.media-amazon.com/images/M/MV5BZTBmMj...</td>\n",
              "      <td>Lifeboat</td>\n",
              "      <td>1944</td>\n",
              "      <td>NaN</td>\n",
              "      <td>97 min</td>\n",
              "      <td>Drama, War</td>\n",
              "      <td>7.6</td>\n",
              "      <td>Several survivors of a torpedoed merchant ship...</td>\n",
              "      <td>78.0</td>\n",
              "      <td>Alfred Hitchcock</td>\n",
              "      <td>Tallulah Bankhead</td>\n",
              "      <td>John Hodiak</td>\n",
              "      <td>Walter Slezak</td>\n",
              "      <td>William Bendix</td>\n",
              "      <td>26471</td>\n",
              "      <td>NaN</td>\n",
              "    </tr>\n",
              "    <tr>\n",
              "      <th>999</th>\n",
              "      <td>https://m.media-amazon.com/images/M/MV5BMTY5OD...</td>\n",
              "      <td>The 39 Steps</td>\n",
              "      <td>1935</td>\n",
              "      <td>NaN</td>\n",
              "      <td>86 min</td>\n",
              "      <td>Crime, Mystery, Thriller</td>\n",
              "      <td>7.6</td>\n",
              "      <td>A man in London tries to help a counter-espion...</td>\n",
              "      <td>93.0</td>\n",
              "      <td>Alfred Hitchcock</td>\n",
              "      <td>Robert Donat</td>\n",
              "      <td>Madeleine Carroll</td>\n",
              "      <td>Lucie Mannheim</td>\n",
              "      <td>Godfrey Tearle</td>\n",
              "      <td>51853</td>\n",
              "      <td>NaN</td>\n",
              "    </tr>\n",
              "  </tbody>\n",
              "</table>\n",
              "<p>1000 rows × 16 columns</p>\n",
              "</div>\n",
              "      <button class=\"colab-df-convert\" onclick=\"convertToInteractive('df-7d4a09a3-110c-44ac-9482-4e6a93c5d68b')\"\n",
              "              title=\"Convert this dataframe to an interactive table.\"\n",
              "              style=\"display:none;\">\n",
              "        \n",
              "  <svg xmlns=\"http://www.w3.org/2000/svg\" height=\"24px\"viewBox=\"0 0 24 24\"\n",
              "       width=\"24px\">\n",
              "    <path d=\"M0 0h24v24H0V0z\" fill=\"none\"/>\n",
              "    <path d=\"M18.56 5.44l.94 2.06.94-2.06 2.06-.94-2.06-.94-.94-2.06-.94 2.06-2.06.94zm-11 1L8.5 8.5l.94-2.06 2.06-.94-2.06-.94L8.5 2.5l-.94 2.06-2.06.94zm10 10l.94 2.06.94-2.06 2.06-.94-2.06-.94-.94-2.06-.94 2.06-2.06.94z\"/><path d=\"M17.41 7.96l-1.37-1.37c-.4-.4-.92-.59-1.43-.59-.52 0-1.04.2-1.43.59L10.3 9.45l-7.72 7.72c-.78.78-.78 2.05 0 2.83L4 21.41c.39.39.9.59 1.41.59.51 0 1.02-.2 1.41-.59l7.78-7.78 2.81-2.81c.8-.78.8-2.07 0-2.86zM5.41 20L4 18.59l7.72-7.72 1.47 1.35L5.41 20z\"/>\n",
              "  </svg>\n",
              "      </button>\n",
              "      \n",
              "  <style>\n",
              "    .colab-df-container {\n",
              "      display:flex;\n",
              "      flex-wrap:wrap;\n",
              "      gap: 12px;\n",
              "    }\n",
              "\n",
              "    .colab-df-convert {\n",
              "      background-color: #E8F0FE;\n",
              "      border: none;\n",
              "      border-radius: 50%;\n",
              "      cursor: pointer;\n",
              "      display: none;\n",
              "      fill: #1967D2;\n",
              "      height: 32px;\n",
              "      padding: 0 0 0 0;\n",
              "      width: 32px;\n",
              "    }\n",
              "\n",
              "    .colab-df-convert:hover {\n",
              "      background-color: #E2EBFA;\n",
              "      box-shadow: 0px 1px 2px rgba(60, 64, 67, 0.3), 0px 1px 3px 1px rgba(60, 64, 67, 0.15);\n",
              "      fill: #174EA6;\n",
              "    }\n",
              "\n",
              "    [theme=dark] .colab-df-convert {\n",
              "      background-color: #3B4455;\n",
              "      fill: #D2E3FC;\n",
              "    }\n",
              "\n",
              "    [theme=dark] .colab-df-convert:hover {\n",
              "      background-color: #434B5C;\n",
              "      box-shadow: 0px 1px 3px 1px rgba(0, 0, 0, 0.15);\n",
              "      filter: drop-shadow(0px 1px 2px rgba(0, 0, 0, 0.3));\n",
              "      fill: #FFFFFF;\n",
              "    }\n",
              "  </style>\n",
              "\n",
              "      <script>\n",
              "        const buttonEl =\n",
              "          document.querySelector('#df-7d4a09a3-110c-44ac-9482-4e6a93c5d68b button.colab-df-convert');\n",
              "        buttonEl.style.display =\n",
              "          google.colab.kernel.accessAllowed ? 'block' : 'none';\n",
              "\n",
              "        async function convertToInteractive(key) {\n",
              "          const element = document.querySelector('#df-7d4a09a3-110c-44ac-9482-4e6a93c5d68b');\n",
              "          const dataTable =\n",
              "            await google.colab.kernel.invokeFunction('convertToInteractive',\n",
              "                                                     [key], {});\n",
              "          if (!dataTable) return;\n",
              "\n",
              "          const docLinkHtml = 'Like what you see? Visit the ' +\n",
              "            '<a target=\"_blank\" href=https://colab.research.google.com/notebooks/data_table.ipynb>data table notebook</a>'\n",
              "            + ' to learn more about interactive tables.';\n",
              "          element.innerHTML = '';\n",
              "          dataTable['output_type'] = 'display_data';\n",
              "          await google.colab.output.renderOutput(dataTable, element);\n",
              "          const docLink = document.createElement('div');\n",
              "          docLink.innerHTML = docLinkHtml;\n",
              "          element.appendChild(docLink);\n",
              "        }\n",
              "      </script>\n",
              "    </div>\n",
              "  </div>\n",
              "  "
            ]
          },
          "metadata": {},
          "execution_count": 3
        }
      ]
    },
    {
      "cell_type": "markdown",
      "source": [
        "Display shape of dataframe"
      ],
      "metadata": {
        "id": "EifdwomBRPxy"
      }
    },
    {
      "cell_type": "code",
      "source": [
        "movies.shape"
      ],
      "metadata": {
        "id": "lM8S9INfRSt3",
        "outputId": "3656df33-4ce6-44fb-bc0c-4c6cd00ea8f7",
        "colab": {
          "base_uri": "https://localhost:8080/"
        }
      },
      "execution_count": null,
      "outputs": [
        {
          "output_type": "execute_result",
          "data": {
            "text/plain": [
              "(1000, 16)"
            ]
          },
          "metadata": {},
          "execution_count": 4
        }
      ]
    },
    {
      "cell_type": "markdown",
      "source": [
        "Print all columns of dataframe"
      ],
      "metadata": {
        "id": "Q9xTIt54RVTY"
      }
    },
    {
      "cell_type": "code",
      "source": [
        "print(movies.columns)"
      ],
      "metadata": {
        "id": "kn3VPvn6RV4_",
        "outputId": "65ff4e73-b8ca-4db7-d63a-e3698ab1f24f",
        "colab": {
          "base_uri": "https://localhost:8080/"
        }
      },
      "execution_count": null,
      "outputs": [
        {
          "output_type": "stream",
          "name": "stdout",
          "text": [
            "Index(['Poster_Link', 'Series_Title', 'Released_Year', 'Certificate',\n",
            "       'Runtime', 'Genre', 'IMDB_Rating', 'Overview', 'Meta_score', 'Director',\n",
            "       'Star1', 'Star2', 'Star3', 'Star4', 'No_of_Votes', 'Gross'],\n",
            "      dtype='object')\n"
          ]
        }
      ]
    },
    {
      "cell_type": "markdown",
      "source": [
        "Remove the column 'Poster_Link' and update the dataframe."
      ],
      "metadata": {
        "id": "3jtm084KRleN"
      }
    },
    {
      "cell_type": "code",
      "source": [
        "movies.drop(\"Poster_Link\", axis=1)"
      ],
      "metadata": {
        "id": "zYIz3q0ARnuU",
        "outputId": "6ec270e4-e4ee-470d-a540-7100a789c313",
        "colab": {
          "base_uri": "https://localhost:8080/",
          "height": 1000
        }
      },
      "execution_count": null,
      "outputs": [
        {
          "output_type": "execute_result",
          "data": {
            "text/plain": [
              "                 Series_Title Released_Year Certificate  Runtime  \\\n",
              "0    The Shawshank Redemption          1994           A  142 min   \n",
              "1               The Godfather          1972           A  175 min   \n",
              "2             The Dark Knight          2008          UA  152 min   \n",
              "3      The Godfather: Part II          1974           A  202 min   \n",
              "4                12 Angry Men          1957           U   96 min   \n",
              "..                        ...           ...         ...      ...   \n",
              "995    Breakfast at Tiffany's          1961           A  115 min   \n",
              "996                     Giant          1956           G  201 min   \n",
              "997     From Here to Eternity          1953      Passed  118 min   \n",
              "998                  Lifeboat          1944         NaN   97 min   \n",
              "999              The 39 Steps          1935         NaN   86 min   \n",
              "\n",
              "                        Genre  IMDB_Rating  \\\n",
              "0                       Drama          9.3   \n",
              "1                Crime, Drama          9.2   \n",
              "2        Action, Crime, Drama          9.0   \n",
              "3                Crime, Drama          9.0   \n",
              "4                Crime, Drama          9.0   \n",
              "..                        ...          ...   \n",
              "995    Comedy, Drama, Romance          7.6   \n",
              "996            Drama, Western          7.6   \n",
              "997       Drama, Romance, War          7.6   \n",
              "998                Drama, War          7.6   \n",
              "999  Crime, Mystery, Thriller          7.6   \n",
              "\n",
              "                                              Overview  Meta_score  \\\n",
              "0    Two imprisoned men bond over a number of years...        80.0   \n",
              "1    An organized crime dynasty's aging patriarch t...       100.0   \n",
              "2    When the menace known as the Joker wreaks havo...        84.0   \n",
              "3    The early life and career of Vito Corleone in ...        90.0   \n",
              "4    A jury holdout attempts to prevent a miscarria...        96.0   \n",
              "..                                                 ...         ...   \n",
              "995  A young New York socialite becomes interested ...        76.0   \n",
              "996  Sprawling epic covering the life of a Texas ca...        84.0   \n",
              "997  In Hawaii in 1941, a private is cruelly punish...        85.0   \n",
              "998  Several survivors of a torpedoed merchant ship...        78.0   \n",
              "999  A man in London tries to help a counter-espion...        93.0   \n",
              "\n",
              "                 Director              Star1              Star2  \\\n",
              "0          Frank Darabont        Tim Robbins     Morgan Freeman   \n",
              "1    Francis Ford Coppola      Marlon Brando          Al Pacino   \n",
              "2       Christopher Nolan     Christian Bale       Heath Ledger   \n",
              "3    Francis Ford Coppola          Al Pacino     Robert De Niro   \n",
              "4            Sidney Lumet        Henry Fonda        Lee J. Cobb   \n",
              "..                    ...                ...                ...   \n",
              "995         Blake Edwards     Audrey Hepburn     George Peppard   \n",
              "996        George Stevens   Elizabeth Taylor        Rock Hudson   \n",
              "997        Fred Zinnemann     Burt Lancaster   Montgomery Clift   \n",
              "998      Alfred Hitchcock  Tallulah Bankhead        John Hodiak   \n",
              "999      Alfred Hitchcock       Robert Donat  Madeleine Carroll   \n",
              "\n",
              "              Star3           Star4  No_of_Votes        Gross  \n",
              "0        Bob Gunton  William Sadler      2343110   28,341,469  \n",
              "1        James Caan    Diane Keaton      1620367  134,966,411  \n",
              "2     Aaron Eckhart   Michael Caine      2303232  534,858,444  \n",
              "3     Robert Duvall    Diane Keaton      1129952   57,300,000  \n",
              "4     Martin Balsam    John Fiedler       689845    4,360,000  \n",
              "..              ...             ...          ...          ...  \n",
              "995   Patricia Neal     Buddy Ebsen       166544          NaN  \n",
              "996      James Dean   Carroll Baker        34075          NaN  \n",
              "997    Deborah Kerr      Donna Reed        43374   30,500,000  \n",
              "998   Walter Slezak  William Bendix        26471          NaN  \n",
              "999  Lucie Mannheim  Godfrey Tearle        51853          NaN  \n",
              "\n",
              "[1000 rows x 15 columns]"
            ],
            "text/html": [
              "\n",
              "  <div id=\"df-8ea41113-6943-414a-a945-4770fd5253cd\">\n",
              "    <div class=\"colab-df-container\">\n",
              "      <div>\n",
              "<style scoped>\n",
              "    .dataframe tbody tr th:only-of-type {\n",
              "        vertical-align: middle;\n",
              "    }\n",
              "\n",
              "    .dataframe tbody tr th {\n",
              "        vertical-align: top;\n",
              "    }\n",
              "\n",
              "    .dataframe thead th {\n",
              "        text-align: right;\n",
              "    }\n",
              "</style>\n",
              "<table border=\"1\" class=\"dataframe\">\n",
              "  <thead>\n",
              "    <tr style=\"text-align: right;\">\n",
              "      <th></th>\n",
              "      <th>Series_Title</th>\n",
              "      <th>Released_Year</th>\n",
              "      <th>Certificate</th>\n",
              "      <th>Runtime</th>\n",
              "      <th>Genre</th>\n",
              "      <th>IMDB_Rating</th>\n",
              "      <th>Overview</th>\n",
              "      <th>Meta_score</th>\n",
              "      <th>Director</th>\n",
              "      <th>Star1</th>\n",
              "      <th>Star2</th>\n",
              "      <th>Star3</th>\n",
              "      <th>Star4</th>\n",
              "      <th>No_of_Votes</th>\n",
              "      <th>Gross</th>\n",
              "    </tr>\n",
              "  </thead>\n",
              "  <tbody>\n",
              "    <tr>\n",
              "      <th>0</th>\n",
              "      <td>The Shawshank Redemption</td>\n",
              "      <td>1994</td>\n",
              "      <td>A</td>\n",
              "      <td>142 min</td>\n",
              "      <td>Drama</td>\n",
              "      <td>9.3</td>\n",
              "      <td>Two imprisoned men bond over a number of years...</td>\n",
              "      <td>80.0</td>\n",
              "      <td>Frank Darabont</td>\n",
              "      <td>Tim Robbins</td>\n",
              "      <td>Morgan Freeman</td>\n",
              "      <td>Bob Gunton</td>\n",
              "      <td>William Sadler</td>\n",
              "      <td>2343110</td>\n",
              "      <td>28,341,469</td>\n",
              "    </tr>\n",
              "    <tr>\n",
              "      <th>1</th>\n",
              "      <td>The Godfather</td>\n",
              "      <td>1972</td>\n",
              "      <td>A</td>\n",
              "      <td>175 min</td>\n",
              "      <td>Crime, Drama</td>\n",
              "      <td>9.2</td>\n",
              "      <td>An organized crime dynasty's aging patriarch t...</td>\n",
              "      <td>100.0</td>\n",
              "      <td>Francis Ford Coppola</td>\n",
              "      <td>Marlon Brando</td>\n",
              "      <td>Al Pacino</td>\n",
              "      <td>James Caan</td>\n",
              "      <td>Diane Keaton</td>\n",
              "      <td>1620367</td>\n",
              "      <td>134,966,411</td>\n",
              "    </tr>\n",
              "    <tr>\n",
              "      <th>2</th>\n",
              "      <td>The Dark Knight</td>\n",
              "      <td>2008</td>\n",
              "      <td>UA</td>\n",
              "      <td>152 min</td>\n",
              "      <td>Action, Crime, Drama</td>\n",
              "      <td>9.0</td>\n",
              "      <td>When the menace known as the Joker wreaks havo...</td>\n",
              "      <td>84.0</td>\n",
              "      <td>Christopher Nolan</td>\n",
              "      <td>Christian Bale</td>\n",
              "      <td>Heath Ledger</td>\n",
              "      <td>Aaron Eckhart</td>\n",
              "      <td>Michael Caine</td>\n",
              "      <td>2303232</td>\n",
              "      <td>534,858,444</td>\n",
              "    </tr>\n",
              "    <tr>\n",
              "      <th>3</th>\n",
              "      <td>The Godfather: Part II</td>\n",
              "      <td>1974</td>\n",
              "      <td>A</td>\n",
              "      <td>202 min</td>\n",
              "      <td>Crime, Drama</td>\n",
              "      <td>9.0</td>\n",
              "      <td>The early life and career of Vito Corleone in ...</td>\n",
              "      <td>90.0</td>\n",
              "      <td>Francis Ford Coppola</td>\n",
              "      <td>Al Pacino</td>\n",
              "      <td>Robert De Niro</td>\n",
              "      <td>Robert Duvall</td>\n",
              "      <td>Diane Keaton</td>\n",
              "      <td>1129952</td>\n",
              "      <td>57,300,000</td>\n",
              "    </tr>\n",
              "    <tr>\n",
              "      <th>4</th>\n",
              "      <td>12 Angry Men</td>\n",
              "      <td>1957</td>\n",
              "      <td>U</td>\n",
              "      <td>96 min</td>\n",
              "      <td>Crime, Drama</td>\n",
              "      <td>9.0</td>\n",
              "      <td>A jury holdout attempts to prevent a miscarria...</td>\n",
              "      <td>96.0</td>\n",
              "      <td>Sidney Lumet</td>\n",
              "      <td>Henry Fonda</td>\n",
              "      <td>Lee J. Cobb</td>\n",
              "      <td>Martin Balsam</td>\n",
              "      <td>John Fiedler</td>\n",
              "      <td>689845</td>\n",
              "      <td>4,360,000</td>\n",
              "    </tr>\n",
              "    <tr>\n",
              "      <th>...</th>\n",
              "      <td>...</td>\n",
              "      <td>...</td>\n",
              "      <td>...</td>\n",
              "      <td>...</td>\n",
              "      <td>...</td>\n",
              "      <td>...</td>\n",
              "      <td>...</td>\n",
              "      <td>...</td>\n",
              "      <td>...</td>\n",
              "      <td>...</td>\n",
              "      <td>...</td>\n",
              "      <td>...</td>\n",
              "      <td>...</td>\n",
              "      <td>...</td>\n",
              "      <td>...</td>\n",
              "    </tr>\n",
              "    <tr>\n",
              "      <th>995</th>\n",
              "      <td>Breakfast at Tiffany's</td>\n",
              "      <td>1961</td>\n",
              "      <td>A</td>\n",
              "      <td>115 min</td>\n",
              "      <td>Comedy, Drama, Romance</td>\n",
              "      <td>7.6</td>\n",
              "      <td>A young New York socialite becomes interested ...</td>\n",
              "      <td>76.0</td>\n",
              "      <td>Blake Edwards</td>\n",
              "      <td>Audrey Hepburn</td>\n",
              "      <td>George Peppard</td>\n",
              "      <td>Patricia Neal</td>\n",
              "      <td>Buddy Ebsen</td>\n",
              "      <td>166544</td>\n",
              "      <td>NaN</td>\n",
              "    </tr>\n",
              "    <tr>\n",
              "      <th>996</th>\n",
              "      <td>Giant</td>\n",
              "      <td>1956</td>\n",
              "      <td>G</td>\n",
              "      <td>201 min</td>\n",
              "      <td>Drama, Western</td>\n",
              "      <td>7.6</td>\n",
              "      <td>Sprawling epic covering the life of a Texas ca...</td>\n",
              "      <td>84.0</td>\n",
              "      <td>George Stevens</td>\n",
              "      <td>Elizabeth Taylor</td>\n",
              "      <td>Rock Hudson</td>\n",
              "      <td>James Dean</td>\n",
              "      <td>Carroll Baker</td>\n",
              "      <td>34075</td>\n",
              "      <td>NaN</td>\n",
              "    </tr>\n",
              "    <tr>\n",
              "      <th>997</th>\n",
              "      <td>From Here to Eternity</td>\n",
              "      <td>1953</td>\n",
              "      <td>Passed</td>\n",
              "      <td>118 min</td>\n",
              "      <td>Drama, Romance, War</td>\n",
              "      <td>7.6</td>\n",
              "      <td>In Hawaii in 1941, a private is cruelly punish...</td>\n",
              "      <td>85.0</td>\n",
              "      <td>Fred Zinnemann</td>\n",
              "      <td>Burt Lancaster</td>\n",
              "      <td>Montgomery Clift</td>\n",
              "      <td>Deborah Kerr</td>\n",
              "      <td>Donna Reed</td>\n",
              "      <td>43374</td>\n",
              "      <td>30,500,000</td>\n",
              "    </tr>\n",
              "    <tr>\n",
              "      <th>998</th>\n",
              "      <td>Lifeboat</td>\n",
              "      <td>1944</td>\n",
              "      <td>NaN</td>\n",
              "      <td>97 min</td>\n",
              "      <td>Drama, War</td>\n",
              "      <td>7.6</td>\n",
              "      <td>Several survivors of a torpedoed merchant ship...</td>\n",
              "      <td>78.0</td>\n",
              "      <td>Alfred Hitchcock</td>\n",
              "      <td>Tallulah Bankhead</td>\n",
              "      <td>John Hodiak</td>\n",
              "      <td>Walter Slezak</td>\n",
              "      <td>William Bendix</td>\n",
              "      <td>26471</td>\n",
              "      <td>NaN</td>\n",
              "    </tr>\n",
              "    <tr>\n",
              "      <th>999</th>\n",
              "      <td>The 39 Steps</td>\n",
              "      <td>1935</td>\n",
              "      <td>NaN</td>\n",
              "      <td>86 min</td>\n",
              "      <td>Crime, Mystery, Thriller</td>\n",
              "      <td>7.6</td>\n",
              "      <td>A man in London tries to help a counter-espion...</td>\n",
              "      <td>93.0</td>\n",
              "      <td>Alfred Hitchcock</td>\n",
              "      <td>Robert Donat</td>\n",
              "      <td>Madeleine Carroll</td>\n",
              "      <td>Lucie Mannheim</td>\n",
              "      <td>Godfrey Tearle</td>\n",
              "      <td>51853</td>\n",
              "      <td>NaN</td>\n",
              "    </tr>\n",
              "  </tbody>\n",
              "</table>\n",
              "<p>1000 rows × 15 columns</p>\n",
              "</div>\n",
              "      <button class=\"colab-df-convert\" onclick=\"convertToInteractive('df-8ea41113-6943-414a-a945-4770fd5253cd')\"\n",
              "              title=\"Convert this dataframe to an interactive table.\"\n",
              "              style=\"display:none;\">\n",
              "        \n",
              "  <svg xmlns=\"http://www.w3.org/2000/svg\" height=\"24px\"viewBox=\"0 0 24 24\"\n",
              "       width=\"24px\">\n",
              "    <path d=\"M0 0h24v24H0V0z\" fill=\"none\"/>\n",
              "    <path d=\"M18.56 5.44l.94 2.06.94-2.06 2.06-.94-2.06-.94-.94-2.06-.94 2.06-2.06.94zm-11 1L8.5 8.5l.94-2.06 2.06-.94-2.06-.94L8.5 2.5l-.94 2.06-2.06.94zm10 10l.94 2.06.94-2.06 2.06-.94-2.06-.94-.94-2.06-.94 2.06-2.06.94z\"/><path d=\"M17.41 7.96l-1.37-1.37c-.4-.4-.92-.59-1.43-.59-.52 0-1.04.2-1.43.59L10.3 9.45l-7.72 7.72c-.78.78-.78 2.05 0 2.83L4 21.41c.39.39.9.59 1.41.59.51 0 1.02-.2 1.41-.59l7.78-7.78 2.81-2.81c.8-.78.8-2.07 0-2.86zM5.41 20L4 18.59l7.72-7.72 1.47 1.35L5.41 20z\"/>\n",
              "  </svg>\n",
              "      </button>\n",
              "      \n",
              "  <style>\n",
              "    .colab-df-container {\n",
              "      display:flex;\n",
              "      flex-wrap:wrap;\n",
              "      gap: 12px;\n",
              "    }\n",
              "\n",
              "    .colab-df-convert {\n",
              "      background-color: #E8F0FE;\n",
              "      border: none;\n",
              "      border-radius: 50%;\n",
              "      cursor: pointer;\n",
              "      display: none;\n",
              "      fill: #1967D2;\n",
              "      height: 32px;\n",
              "      padding: 0 0 0 0;\n",
              "      width: 32px;\n",
              "    }\n",
              "\n",
              "    .colab-df-convert:hover {\n",
              "      background-color: #E2EBFA;\n",
              "      box-shadow: 0px 1px 2px rgba(60, 64, 67, 0.3), 0px 1px 3px 1px rgba(60, 64, 67, 0.15);\n",
              "      fill: #174EA6;\n",
              "    }\n",
              "\n",
              "    [theme=dark] .colab-df-convert {\n",
              "      background-color: #3B4455;\n",
              "      fill: #D2E3FC;\n",
              "    }\n",
              "\n",
              "    [theme=dark] .colab-df-convert:hover {\n",
              "      background-color: #434B5C;\n",
              "      box-shadow: 0px 1px 3px 1px rgba(0, 0, 0, 0.15);\n",
              "      filter: drop-shadow(0px 1px 2px rgba(0, 0, 0, 0.3));\n",
              "      fill: #FFFFFF;\n",
              "    }\n",
              "  </style>\n",
              "\n",
              "      <script>\n",
              "        const buttonEl =\n",
              "          document.querySelector('#df-8ea41113-6943-414a-a945-4770fd5253cd button.colab-df-convert');\n",
              "        buttonEl.style.display =\n",
              "          google.colab.kernel.accessAllowed ? 'block' : 'none';\n",
              "\n",
              "        async function convertToInteractive(key) {\n",
              "          const element = document.querySelector('#df-8ea41113-6943-414a-a945-4770fd5253cd');\n",
              "          const dataTable =\n",
              "            await google.colab.kernel.invokeFunction('convertToInteractive',\n",
              "                                                     [key], {});\n",
              "          if (!dataTable) return;\n",
              "\n",
              "          const docLinkHtml = 'Like what you see? Visit the ' +\n",
              "            '<a target=\"_blank\" href=https://colab.research.google.com/notebooks/data_table.ipynb>data table notebook</a>'\n",
              "            + ' to learn more about interactive tables.';\n",
              "          element.innerHTML = '';\n",
              "          dataTable['output_type'] = 'display_data';\n",
              "          await google.colab.output.renderOutput(dataTable, element);\n",
              "          const docLink = document.createElement('div');\n",
              "          docLink.innerHTML = docLinkHtml;\n",
              "          element.appendChild(docLink);\n",
              "        }\n",
              "      </script>\n",
              "    </div>\n",
              "  </div>\n",
              "  "
            ]
          },
          "metadata": {},
          "execution_count": 6
        }
      ]
    },
    {
      "cell_type": "markdown",
      "source": [
        "Set the 'Series_Title' column as the index of dataframe"
      ],
      "metadata": {
        "id": "ss6QYp4YRrfY"
      }
    },
    {
      "cell_type": "code",
      "source": [
        "movies.set_index(\"Series_Title\")"
      ],
      "metadata": {
        "id": "iXNaEmTkR3tB",
        "outputId": "9d2103cd-eb03-421b-ac4c-1e90de299c46",
        "colab": {
          "base_uri": "https://localhost:8080/",
          "height": 1000
        }
      },
      "execution_count": null,
      "outputs": [
        {
          "output_type": "execute_result",
          "data": {
            "text/plain": [
              "                                                                Poster_Link  \\\n",
              "Series_Title                                                                  \n",
              "The Shawshank Redemption  https://m.media-amazon.com/images/M/MV5BMDFkYT...   \n",
              "The Godfather             https://m.media-amazon.com/images/M/MV5BM2MyNj...   \n",
              "The Dark Knight           https://m.media-amazon.com/images/M/MV5BMTMxNT...   \n",
              "The Godfather: Part II    https://m.media-amazon.com/images/M/MV5BMWMwMG...   \n",
              "12 Angry Men              https://m.media-amazon.com/images/M/MV5BMWU4N2...   \n",
              "...                                                                     ...   \n",
              "Breakfast at Tiffany's    https://m.media-amazon.com/images/M/MV5BNGEwMT...   \n",
              "Giant                     https://m.media-amazon.com/images/M/MV5BODk3Yj...   \n",
              "From Here to Eternity     https://m.media-amazon.com/images/M/MV5BM2U3Yz...   \n",
              "Lifeboat                  https://m.media-amazon.com/images/M/MV5BZTBmMj...   \n",
              "The 39 Steps              https://m.media-amazon.com/images/M/MV5BMTY5OD...   \n",
              "\n",
              "                         Released_Year Certificate  Runtime  \\\n",
              "Series_Title                                                  \n",
              "The Shawshank Redemption          1994           A  142 min   \n",
              "The Godfather                     1972           A  175 min   \n",
              "The Dark Knight                   2008          UA  152 min   \n",
              "The Godfather: Part II            1974           A  202 min   \n",
              "12 Angry Men                      1957           U   96 min   \n",
              "...                                ...         ...      ...   \n",
              "Breakfast at Tiffany's            1961           A  115 min   \n",
              "Giant                             1956           G  201 min   \n",
              "From Here to Eternity             1953      Passed  118 min   \n",
              "Lifeboat                          1944         NaN   97 min   \n",
              "The 39 Steps                      1935         NaN   86 min   \n",
              "\n",
              "                                             Genre  IMDB_Rating  \\\n",
              "Series_Title                                                      \n",
              "The Shawshank Redemption                     Drama          9.3   \n",
              "The Godfather                         Crime, Drama          9.2   \n",
              "The Dark Knight               Action, Crime, Drama          9.0   \n",
              "The Godfather: Part II                Crime, Drama          9.0   \n",
              "12 Angry Men                          Crime, Drama          9.0   \n",
              "...                                            ...          ...   \n",
              "Breakfast at Tiffany's      Comedy, Drama, Romance          7.6   \n",
              "Giant                               Drama, Western          7.6   \n",
              "From Here to Eternity          Drama, Romance, War          7.6   \n",
              "Lifeboat                                Drama, War          7.6   \n",
              "The 39 Steps              Crime, Mystery, Thriller          7.6   \n",
              "\n",
              "                                                                   Overview  \\\n",
              "Series_Title                                                                  \n",
              "The Shawshank Redemption  Two imprisoned men bond over a number of years...   \n",
              "The Godfather             An organized crime dynasty's aging patriarch t...   \n",
              "The Dark Knight           When the menace known as the Joker wreaks havo...   \n",
              "The Godfather: Part II    The early life and career of Vito Corleone in ...   \n",
              "12 Angry Men              A jury holdout attempts to prevent a miscarria...   \n",
              "...                                                                     ...   \n",
              "Breakfast at Tiffany's    A young New York socialite becomes interested ...   \n",
              "Giant                     Sprawling epic covering the life of a Texas ca...   \n",
              "From Here to Eternity     In Hawaii in 1941, a private is cruelly punish...   \n",
              "Lifeboat                  Several survivors of a torpedoed merchant ship...   \n",
              "The 39 Steps              A man in London tries to help a counter-espion...   \n",
              "\n",
              "                          Meta_score              Director              Star1  \\\n",
              "Series_Title                                                                    \n",
              "The Shawshank Redemption        80.0        Frank Darabont        Tim Robbins   \n",
              "The Godfather                  100.0  Francis Ford Coppola      Marlon Brando   \n",
              "The Dark Knight                 84.0     Christopher Nolan     Christian Bale   \n",
              "The Godfather: Part II          90.0  Francis Ford Coppola          Al Pacino   \n",
              "12 Angry Men                    96.0          Sidney Lumet        Henry Fonda   \n",
              "...                              ...                   ...                ...   \n",
              "Breakfast at Tiffany's          76.0         Blake Edwards     Audrey Hepburn   \n",
              "Giant                           84.0        George Stevens   Elizabeth Taylor   \n",
              "From Here to Eternity           85.0        Fred Zinnemann     Burt Lancaster   \n",
              "Lifeboat                        78.0      Alfred Hitchcock  Tallulah Bankhead   \n",
              "The 39 Steps                    93.0      Alfred Hitchcock       Robert Donat   \n",
              "\n",
              "                                      Star2           Star3           Star4  \\\n",
              "Series_Title                                                                  \n",
              "The Shawshank Redemption     Morgan Freeman      Bob Gunton  William Sadler   \n",
              "The Godfather                     Al Pacino      James Caan    Diane Keaton   \n",
              "The Dark Knight                Heath Ledger   Aaron Eckhart   Michael Caine   \n",
              "The Godfather: Part II       Robert De Niro   Robert Duvall    Diane Keaton   \n",
              "12 Angry Men                    Lee J. Cobb   Martin Balsam    John Fiedler   \n",
              "...                                     ...             ...             ...   \n",
              "Breakfast at Tiffany's       George Peppard   Patricia Neal     Buddy Ebsen   \n",
              "Giant                           Rock Hudson      James Dean   Carroll Baker   \n",
              "From Here to Eternity      Montgomery Clift    Deborah Kerr      Donna Reed   \n",
              "Lifeboat                        John Hodiak   Walter Slezak  William Bendix   \n",
              "The 39 Steps              Madeleine Carroll  Lucie Mannheim  Godfrey Tearle   \n",
              "\n",
              "                          No_of_Votes        Gross  \n",
              "Series_Title                                        \n",
              "The Shawshank Redemption      2343110   28,341,469  \n",
              "The Godfather                 1620367  134,966,411  \n",
              "The Dark Knight               2303232  534,858,444  \n",
              "The Godfather: Part II        1129952   57,300,000  \n",
              "12 Angry Men                   689845    4,360,000  \n",
              "...                               ...          ...  \n",
              "Breakfast at Tiffany's         166544          NaN  \n",
              "Giant                           34075          NaN  \n",
              "From Here to Eternity           43374   30,500,000  \n",
              "Lifeboat                        26471          NaN  \n",
              "The 39 Steps                    51853          NaN  \n",
              "\n",
              "[1000 rows x 15 columns]"
            ],
            "text/html": [
              "\n",
              "  <div id=\"df-9aead1b8-5895-4205-a69c-b88ad67e9c96\">\n",
              "    <div class=\"colab-df-container\">\n",
              "      <div>\n",
              "<style scoped>\n",
              "    .dataframe tbody tr th:only-of-type {\n",
              "        vertical-align: middle;\n",
              "    }\n",
              "\n",
              "    .dataframe tbody tr th {\n",
              "        vertical-align: top;\n",
              "    }\n",
              "\n",
              "    .dataframe thead th {\n",
              "        text-align: right;\n",
              "    }\n",
              "</style>\n",
              "<table border=\"1\" class=\"dataframe\">\n",
              "  <thead>\n",
              "    <tr style=\"text-align: right;\">\n",
              "      <th></th>\n",
              "      <th>Poster_Link</th>\n",
              "      <th>Released_Year</th>\n",
              "      <th>Certificate</th>\n",
              "      <th>Runtime</th>\n",
              "      <th>Genre</th>\n",
              "      <th>IMDB_Rating</th>\n",
              "      <th>Overview</th>\n",
              "      <th>Meta_score</th>\n",
              "      <th>Director</th>\n",
              "      <th>Star1</th>\n",
              "      <th>Star2</th>\n",
              "      <th>Star3</th>\n",
              "      <th>Star4</th>\n",
              "      <th>No_of_Votes</th>\n",
              "      <th>Gross</th>\n",
              "    </tr>\n",
              "    <tr>\n",
              "      <th>Series_Title</th>\n",
              "      <th></th>\n",
              "      <th></th>\n",
              "      <th></th>\n",
              "      <th></th>\n",
              "      <th></th>\n",
              "      <th></th>\n",
              "      <th></th>\n",
              "      <th></th>\n",
              "      <th></th>\n",
              "      <th></th>\n",
              "      <th></th>\n",
              "      <th></th>\n",
              "      <th></th>\n",
              "      <th></th>\n",
              "      <th></th>\n",
              "    </tr>\n",
              "  </thead>\n",
              "  <tbody>\n",
              "    <tr>\n",
              "      <th>The Shawshank Redemption</th>\n",
              "      <td>https://m.media-amazon.com/images/M/MV5BMDFkYT...</td>\n",
              "      <td>1994</td>\n",
              "      <td>A</td>\n",
              "      <td>142 min</td>\n",
              "      <td>Drama</td>\n",
              "      <td>9.3</td>\n",
              "      <td>Two imprisoned men bond over a number of years...</td>\n",
              "      <td>80.0</td>\n",
              "      <td>Frank Darabont</td>\n",
              "      <td>Tim Robbins</td>\n",
              "      <td>Morgan Freeman</td>\n",
              "      <td>Bob Gunton</td>\n",
              "      <td>William Sadler</td>\n",
              "      <td>2343110</td>\n",
              "      <td>28,341,469</td>\n",
              "    </tr>\n",
              "    <tr>\n",
              "      <th>The Godfather</th>\n",
              "      <td>https://m.media-amazon.com/images/M/MV5BM2MyNj...</td>\n",
              "      <td>1972</td>\n",
              "      <td>A</td>\n",
              "      <td>175 min</td>\n",
              "      <td>Crime, Drama</td>\n",
              "      <td>9.2</td>\n",
              "      <td>An organized crime dynasty's aging patriarch t...</td>\n",
              "      <td>100.0</td>\n",
              "      <td>Francis Ford Coppola</td>\n",
              "      <td>Marlon Brando</td>\n",
              "      <td>Al Pacino</td>\n",
              "      <td>James Caan</td>\n",
              "      <td>Diane Keaton</td>\n",
              "      <td>1620367</td>\n",
              "      <td>134,966,411</td>\n",
              "    </tr>\n",
              "    <tr>\n",
              "      <th>The Dark Knight</th>\n",
              "      <td>https://m.media-amazon.com/images/M/MV5BMTMxNT...</td>\n",
              "      <td>2008</td>\n",
              "      <td>UA</td>\n",
              "      <td>152 min</td>\n",
              "      <td>Action, Crime, Drama</td>\n",
              "      <td>9.0</td>\n",
              "      <td>When the menace known as the Joker wreaks havo...</td>\n",
              "      <td>84.0</td>\n",
              "      <td>Christopher Nolan</td>\n",
              "      <td>Christian Bale</td>\n",
              "      <td>Heath Ledger</td>\n",
              "      <td>Aaron Eckhart</td>\n",
              "      <td>Michael Caine</td>\n",
              "      <td>2303232</td>\n",
              "      <td>534,858,444</td>\n",
              "    </tr>\n",
              "    <tr>\n",
              "      <th>The Godfather: Part II</th>\n",
              "      <td>https://m.media-amazon.com/images/M/MV5BMWMwMG...</td>\n",
              "      <td>1974</td>\n",
              "      <td>A</td>\n",
              "      <td>202 min</td>\n",
              "      <td>Crime, Drama</td>\n",
              "      <td>9.0</td>\n",
              "      <td>The early life and career of Vito Corleone in ...</td>\n",
              "      <td>90.0</td>\n",
              "      <td>Francis Ford Coppola</td>\n",
              "      <td>Al Pacino</td>\n",
              "      <td>Robert De Niro</td>\n",
              "      <td>Robert Duvall</td>\n",
              "      <td>Diane Keaton</td>\n",
              "      <td>1129952</td>\n",
              "      <td>57,300,000</td>\n",
              "    </tr>\n",
              "    <tr>\n",
              "      <th>12 Angry Men</th>\n",
              "      <td>https://m.media-amazon.com/images/M/MV5BMWU4N2...</td>\n",
              "      <td>1957</td>\n",
              "      <td>U</td>\n",
              "      <td>96 min</td>\n",
              "      <td>Crime, Drama</td>\n",
              "      <td>9.0</td>\n",
              "      <td>A jury holdout attempts to prevent a miscarria...</td>\n",
              "      <td>96.0</td>\n",
              "      <td>Sidney Lumet</td>\n",
              "      <td>Henry Fonda</td>\n",
              "      <td>Lee J. Cobb</td>\n",
              "      <td>Martin Balsam</td>\n",
              "      <td>John Fiedler</td>\n",
              "      <td>689845</td>\n",
              "      <td>4,360,000</td>\n",
              "    </tr>\n",
              "    <tr>\n",
              "      <th>...</th>\n",
              "      <td>...</td>\n",
              "      <td>...</td>\n",
              "      <td>...</td>\n",
              "      <td>...</td>\n",
              "      <td>...</td>\n",
              "      <td>...</td>\n",
              "      <td>...</td>\n",
              "      <td>...</td>\n",
              "      <td>...</td>\n",
              "      <td>...</td>\n",
              "      <td>...</td>\n",
              "      <td>...</td>\n",
              "      <td>...</td>\n",
              "      <td>...</td>\n",
              "      <td>...</td>\n",
              "    </tr>\n",
              "    <tr>\n",
              "      <th>Breakfast at Tiffany's</th>\n",
              "      <td>https://m.media-amazon.com/images/M/MV5BNGEwMT...</td>\n",
              "      <td>1961</td>\n",
              "      <td>A</td>\n",
              "      <td>115 min</td>\n",
              "      <td>Comedy, Drama, Romance</td>\n",
              "      <td>7.6</td>\n",
              "      <td>A young New York socialite becomes interested ...</td>\n",
              "      <td>76.0</td>\n",
              "      <td>Blake Edwards</td>\n",
              "      <td>Audrey Hepburn</td>\n",
              "      <td>George Peppard</td>\n",
              "      <td>Patricia Neal</td>\n",
              "      <td>Buddy Ebsen</td>\n",
              "      <td>166544</td>\n",
              "      <td>NaN</td>\n",
              "    </tr>\n",
              "    <tr>\n",
              "      <th>Giant</th>\n",
              "      <td>https://m.media-amazon.com/images/M/MV5BODk3Yj...</td>\n",
              "      <td>1956</td>\n",
              "      <td>G</td>\n",
              "      <td>201 min</td>\n",
              "      <td>Drama, Western</td>\n",
              "      <td>7.6</td>\n",
              "      <td>Sprawling epic covering the life of a Texas ca...</td>\n",
              "      <td>84.0</td>\n",
              "      <td>George Stevens</td>\n",
              "      <td>Elizabeth Taylor</td>\n",
              "      <td>Rock Hudson</td>\n",
              "      <td>James Dean</td>\n",
              "      <td>Carroll Baker</td>\n",
              "      <td>34075</td>\n",
              "      <td>NaN</td>\n",
              "    </tr>\n",
              "    <tr>\n",
              "      <th>From Here to Eternity</th>\n",
              "      <td>https://m.media-amazon.com/images/M/MV5BM2U3Yz...</td>\n",
              "      <td>1953</td>\n",
              "      <td>Passed</td>\n",
              "      <td>118 min</td>\n",
              "      <td>Drama, Romance, War</td>\n",
              "      <td>7.6</td>\n",
              "      <td>In Hawaii in 1941, a private is cruelly punish...</td>\n",
              "      <td>85.0</td>\n",
              "      <td>Fred Zinnemann</td>\n",
              "      <td>Burt Lancaster</td>\n",
              "      <td>Montgomery Clift</td>\n",
              "      <td>Deborah Kerr</td>\n",
              "      <td>Donna Reed</td>\n",
              "      <td>43374</td>\n",
              "      <td>30,500,000</td>\n",
              "    </tr>\n",
              "    <tr>\n",
              "      <th>Lifeboat</th>\n",
              "      <td>https://m.media-amazon.com/images/M/MV5BZTBmMj...</td>\n",
              "      <td>1944</td>\n",
              "      <td>NaN</td>\n",
              "      <td>97 min</td>\n",
              "      <td>Drama, War</td>\n",
              "      <td>7.6</td>\n",
              "      <td>Several survivors of a torpedoed merchant ship...</td>\n",
              "      <td>78.0</td>\n",
              "      <td>Alfred Hitchcock</td>\n",
              "      <td>Tallulah Bankhead</td>\n",
              "      <td>John Hodiak</td>\n",
              "      <td>Walter Slezak</td>\n",
              "      <td>William Bendix</td>\n",
              "      <td>26471</td>\n",
              "      <td>NaN</td>\n",
              "    </tr>\n",
              "    <tr>\n",
              "      <th>The 39 Steps</th>\n",
              "      <td>https://m.media-amazon.com/images/M/MV5BMTY5OD...</td>\n",
              "      <td>1935</td>\n",
              "      <td>NaN</td>\n",
              "      <td>86 min</td>\n",
              "      <td>Crime, Mystery, Thriller</td>\n",
              "      <td>7.6</td>\n",
              "      <td>A man in London tries to help a counter-espion...</td>\n",
              "      <td>93.0</td>\n",
              "      <td>Alfred Hitchcock</td>\n",
              "      <td>Robert Donat</td>\n",
              "      <td>Madeleine Carroll</td>\n",
              "      <td>Lucie Mannheim</td>\n",
              "      <td>Godfrey Tearle</td>\n",
              "      <td>51853</td>\n",
              "      <td>NaN</td>\n",
              "    </tr>\n",
              "  </tbody>\n",
              "</table>\n",
              "<p>1000 rows × 15 columns</p>\n",
              "</div>\n",
              "      <button class=\"colab-df-convert\" onclick=\"convertToInteractive('df-9aead1b8-5895-4205-a69c-b88ad67e9c96')\"\n",
              "              title=\"Convert this dataframe to an interactive table.\"\n",
              "              style=\"display:none;\">\n",
              "        \n",
              "  <svg xmlns=\"http://www.w3.org/2000/svg\" height=\"24px\"viewBox=\"0 0 24 24\"\n",
              "       width=\"24px\">\n",
              "    <path d=\"M0 0h24v24H0V0z\" fill=\"none\"/>\n",
              "    <path d=\"M18.56 5.44l.94 2.06.94-2.06 2.06-.94-2.06-.94-.94-2.06-.94 2.06-2.06.94zm-11 1L8.5 8.5l.94-2.06 2.06-.94-2.06-.94L8.5 2.5l-.94 2.06-2.06.94zm10 10l.94 2.06.94-2.06 2.06-.94-2.06-.94-.94-2.06-.94 2.06-2.06.94z\"/><path d=\"M17.41 7.96l-1.37-1.37c-.4-.4-.92-.59-1.43-.59-.52 0-1.04.2-1.43.59L10.3 9.45l-7.72 7.72c-.78.78-.78 2.05 0 2.83L4 21.41c.39.39.9.59 1.41.59.51 0 1.02-.2 1.41-.59l7.78-7.78 2.81-2.81c.8-.78.8-2.07 0-2.86zM5.41 20L4 18.59l7.72-7.72 1.47 1.35L5.41 20z\"/>\n",
              "  </svg>\n",
              "      </button>\n",
              "      \n",
              "  <style>\n",
              "    .colab-df-container {\n",
              "      display:flex;\n",
              "      flex-wrap:wrap;\n",
              "      gap: 12px;\n",
              "    }\n",
              "\n",
              "    .colab-df-convert {\n",
              "      background-color: #E8F0FE;\n",
              "      border: none;\n",
              "      border-radius: 50%;\n",
              "      cursor: pointer;\n",
              "      display: none;\n",
              "      fill: #1967D2;\n",
              "      height: 32px;\n",
              "      padding: 0 0 0 0;\n",
              "      width: 32px;\n",
              "    }\n",
              "\n",
              "    .colab-df-convert:hover {\n",
              "      background-color: #E2EBFA;\n",
              "      box-shadow: 0px 1px 2px rgba(60, 64, 67, 0.3), 0px 1px 3px 1px rgba(60, 64, 67, 0.15);\n",
              "      fill: #174EA6;\n",
              "    }\n",
              "\n",
              "    [theme=dark] .colab-df-convert {\n",
              "      background-color: #3B4455;\n",
              "      fill: #D2E3FC;\n",
              "    }\n",
              "\n",
              "    [theme=dark] .colab-df-convert:hover {\n",
              "      background-color: #434B5C;\n",
              "      box-shadow: 0px 1px 3px 1px rgba(0, 0, 0, 0.15);\n",
              "      filter: drop-shadow(0px 1px 2px rgba(0, 0, 0, 0.3));\n",
              "      fill: #FFFFFF;\n",
              "    }\n",
              "  </style>\n",
              "\n",
              "      <script>\n",
              "        const buttonEl =\n",
              "          document.querySelector('#df-9aead1b8-5895-4205-a69c-b88ad67e9c96 button.colab-df-convert');\n",
              "        buttonEl.style.display =\n",
              "          google.colab.kernel.accessAllowed ? 'block' : 'none';\n",
              "\n",
              "        async function convertToInteractive(key) {\n",
              "          const element = document.querySelector('#df-9aead1b8-5895-4205-a69c-b88ad67e9c96');\n",
              "          const dataTable =\n",
              "            await google.colab.kernel.invokeFunction('convertToInteractive',\n",
              "                                                     [key], {});\n",
              "          if (!dataTable) return;\n",
              "\n",
              "          const docLinkHtml = 'Like what you see? Visit the ' +\n",
              "            '<a target=\"_blank\" href=https://colab.research.google.com/notebooks/data_table.ipynb>data table notebook</a>'\n",
              "            + ' to learn more about interactive tables.';\n",
              "          element.innerHTML = '';\n",
              "          dataTable['output_type'] = 'display_data';\n",
              "          await google.colab.output.renderOutput(dataTable, element);\n",
              "          const docLink = document.createElement('div');\n",
              "          docLink.innerHTML = docLinkHtml;\n",
              "          element.appendChild(docLink);\n",
              "        }\n",
              "      </script>\n",
              "    </div>\n",
              "  </div>\n",
              "  "
            ]
          },
          "metadata": {},
          "execution_count": 7
        }
      ]
    },
    {
      "cell_type": "markdown",
      "source": [
        "Print a list of all the unique Genre"
      ],
      "metadata": {
        "id": "f6cj49w0R4PS"
      }
    },
    {
      "cell_type": "code",
      "source": [
        "unique_genres=movies[\"Genre\"].unique()\n",
        "print(unique_genres)"
      ],
      "metadata": {
        "id": "CO4kbBsySVjr",
        "outputId": "097dc7f3-16cf-4c44-83ae-4b6c5a3a94bb",
        "colab": {
          "base_uri": "https://localhost:8080/"
        }
      },
      "execution_count": null,
      "outputs": [
        {
          "output_type": "stream",
          "name": "stdout",
          "text": [
            "['Drama' 'Crime, Drama' 'Action, Crime, Drama' 'Action, Adventure, Drama'\n",
            " 'Biography, Drama, History' 'Action, Adventure, Sci-Fi' 'Drama, Romance'\n",
            " 'Western' 'Action, Sci-Fi' 'Biography, Crime, Drama'\n",
            " 'Action, Adventure, Fantasy' 'Comedy, Drama, Thriller'\n",
            " 'Adventure, Drama, Sci-Fi' 'Animation, Adventure, Family' 'Drama, War'\n",
            " 'Crime, Drama, Fantasy' 'Comedy, Drama, Romance' 'Crime, Drama, Mystery'\n",
            " 'Crime, Drama, Thriller' 'Action, Drama, Mystery'\n",
            " 'Drama, Family, Fantasy' 'Drama, Music' 'Biography, Comedy, Drama'\n",
            " 'Drama, Mystery, Sci-Fi' 'Biography, Drama, Music'\n",
            " 'Crime, Mystery, Thriller' 'Animation, Adventure, Drama'\n",
            " 'Animation, Drama, War' 'Adventure, Comedy, Sci-Fi'\n",
            " 'Horror, Mystery, Thriller' 'Drama, Romance, War' 'Comedy, Drama, Family'\n",
            " 'Animation, Drama, Fantasy' 'Action, Biography, Drama'\n",
            " 'Animation, Action, Adventure' 'Drama, Western' 'Action, Adventure'\n",
            " 'Comedy, Drama' 'Drama, Family' 'Drama, Mystery, Thriller'\n",
            " 'Mystery, Thriller' 'Drama, Horror' 'Drama, Mystery, War'\n",
            " 'Horror, Sci-Fi' 'Drama, Musical' 'Comedy' 'Drama, Film-Noir'\n",
            " 'Comedy, Drama, War' 'Drama, Thriller, War' 'Drama, Fantasy, Horror'\n",
            " 'Crime, Drama, Music' 'Adventure, Drama, War' 'Drama, Romance, Sci-Fi'\n",
            " 'Comedy, Romance' 'Comedy, Crime' 'Drama, Family, Sport'\n",
            " 'Animation, Adventure, Comedy' 'Adventure, Drama, Thriller'\n",
            " 'Comedy, Crime, Drama' 'Crime, Drama, Sci-Fi' 'Adventure, Sci-Fi'\n",
            " 'Adventure, Biography, Drama' 'Adventure, Mystery, Thriller'\n",
            " 'Mystery, Romance, Thriller' 'Comedy, Musical, Romance'\n",
            " 'Crime, Drama, Film-Noir' 'Drama, Mystery' 'Drama, Sci-Fi'\n",
            " 'Action, Drama, War' 'Action, Drama' 'Adventure, Comedy, Drama'\n",
            " 'Biography, Drama, Sport' 'Action, Comedy, Crime'\n",
            " 'Action, Biography, Crime' 'Drama, Mystery, Romance'\n",
            " 'Action, Drama, Sport' 'Drama, Fantasy, War' 'Action, Drama, Sci-Fi'\n",
            " 'Biography, Drama' 'Action, Comedy, Romance' 'Animation, Family, Fantasy'\n",
            " 'Action, Thriller' 'Action, Adventure, Comedy'\n",
            " 'Adventure, Comedy, Fantasy' 'Adventure, Drama, History'\n",
            " 'Action, Drama, Thriller' 'Comedy, Music, Romance'\n",
            " 'Drama, Fantasy, History' 'Crime, Thriller' 'Adventure, Drama, Western'\n",
            " 'Comedy, War' 'Drama, Thriller' 'Animation, Drama, Family'\n",
            " 'Drama, Romance, Thriller' 'Comedy, Drama, Musical'\n",
            " 'Comedy, Drama, Fantasy' 'Adventure, Comedy, Crime'\n",
            " 'Adventure, Drama, Fantasy' 'Biography, Drama, Family'\n",
            " 'Animation, Comedy, Drama' 'Drama, Sport' 'Animation, Action, Drama'\n",
            " 'Adventure, Drama, Musical' 'Drama, Music, Romance'\n",
            " 'Comedy, Crime, Romance' 'Comedy, Crime, Sport' 'Drama, History, Romance'\n",
            " 'Adventure, Drama' 'Animation, Adventure, Fantasy'\n",
            " 'Horror, Mystery, Sci-Fi' 'Drama, Fantasy, Music'\n",
            " 'Action, Sci-Fi, Thriller' 'Drama, Fantasy' 'Drama, Horror, Thriller'\n",
            " 'Drama, History' 'Film-Noir, Mystery, Thriller'\n",
            " 'Fantasy, Horror, Mystery' 'Action, Crime, Thriller'\n",
            " 'Comedy, Drama, Music' 'Biography, Drama, Thriller'\n",
            " 'Animation, Biography, Drama' 'Action, Mystery, Thriller'\n",
            " 'Crime, Drama, Romance' 'Action, Adventure, Thriller'\n",
            " 'Crime, Drama, Musical' 'Animation, Crime, Mystery'\n",
            " 'Action, Crime, Comedy' 'Mystery, Sci-Fi, Thriller'\n",
            " 'Animation, Action, Crime' 'Comedy, Fantasy, Romance'\n",
            " 'Drama, History, Thriller' 'Animation, Action, Sci-Fi'\n",
            " 'Adventure, Family, Fantasy' 'Drama, Fantasy, Romance'\n",
            " 'Drama, History, War' 'Adventure, Thriller' 'Horror'\n",
            " 'Drama, Family, Musical' 'Action, Drama, Western' 'Crime, Drama, Horror'\n",
            " 'Drama, Film-Noir, Mystery' 'Comedy, Crime, Thriller'\n",
            " 'Film-Noir, Mystery' 'Comedy, Crime, Mystery' 'Drama, Fantasy, Mystery'\n",
            " 'Comedy, Horror' 'Action, Adventure, History' 'Drama, Music, Mystery'\n",
            " 'Comedy, Music' 'Comedy, Family' 'Drama, Music, Musical'\n",
            " 'Action, Adventure, Horror' 'Action, Adventure, Biography'\n",
            " 'Biography, Drama, War' 'Action, Adventure, Western' 'Horror, Thriller'\n",
            " 'Comedy, Mystery, Romance' 'Drama, Thriller, Western'\n",
            " 'Crime, Film-Noir, Thriller' 'Drama, Film-Noir, Romance'\n",
            " 'Crime, Film-Noir, Mystery' 'Action, Adventure, Romance'\n",
            " 'Comedy, Music, Musical' 'Adventure, Horror, Sci-Fi' 'Fantasy, Horror'\n",
            " 'Action, Drama, History' 'Adventure, Comedy, Family'\n",
            " 'Animation, Biography, Crime' 'Adventure, Biography, Crime'\n",
            " 'Adventure, Fantasy' 'Drama, History, Mystery' 'Action, Comedy, Mystery'\n",
            " 'Adventure, Drama, Romance' 'Drama, Sci-Fi, Thriller'\n",
            " 'Crime, Drama, History' 'Action, Comedy, Fantasy' 'Family, Sci-Fi'\n",
            " 'Adventure, History, War' 'Animation, Sci-Fi' 'Family, Fantasy, Musical'\n",
            " 'Thriller' 'Comedy, Family, Fantasy' 'Adventure, Comedy, Film-Noir'\n",
            " 'Film-Noir, Thriller' 'Comedy, Family, Romance' 'Drama, Horror, Sci-Fi'\n",
            " 'Comedy, Musical, War' 'Biography, Drama, Romance'\n",
            " 'Drama, History, Music' 'Animation, Action, Fantasy'\n",
            " 'Animation, Comedy, Fantasy' 'Comedy, Western' 'Action, Adventure, War'\n",
            " 'Drama, Horror, Mystery' 'Animation, Comedy, Crime'\n",
            " 'Action, Adventure, Crime' 'Action, Adventure, Mystery'\n",
            " 'Action, Adventure, Family' 'Action, Crime, Mystery'\n",
            " 'Animation, Drama, Romance' 'Drama, War, Western'\n",
            " 'Adventure, Comedy, War']\n"
          ]
        }
      ]
    },
    {
      "cell_type": "markdown",
      "source": [
        "1. What is the Number of Directors in the given dataset ?"
      ],
      "metadata": {
        "id": "Dfj_ZoVBS97W"
      }
    },
    {
      "cell_type": "code",
      "source": [
        "num_directors=movies['Director'].nunique()\n",
        "print(num_directors)"
      ],
      "metadata": {
        "id": "92f8NLciTIU_",
        "outputId": "3bb825ca-e225-45ad-8283-13652c27da45",
        "colab": {
          "base_uri": "https://localhost:8080/"
        }
      },
      "execution_count": null,
      "outputs": [
        {
          "output_type": "stream",
          "name": "stdout",
          "text": [
            "548\n"
          ]
        }
      ]
    },
    {
      "cell_type": "markdown",
      "source": [
        "2. What is the mean, median and standard deviation of IMDB rating in the dataset ?"
      ],
      "metadata": {
        "id": "5UnvBViyTOc9"
      }
    },
    {
      "cell_type": "code",
      "source": [
        "mean = movies['IMDB_Rating'].mean()\n",
        "median = movies['IMDB_Rating'].median()\n",
        "std_dev = movies['IMDB_Rating'].std()\n",
        "\n",
        "print(f\"Mean: {mean}\",\"\\n\",f\"Median:{median}\",\"\\n\",f\"Standard Deviation:{std_dev}\")\n"
      ],
      "metadata": {
        "id": "sOL7O83LTg30",
        "outputId": "890bd172-fc7e-4612-cb3c-a0d01b56c172",
        "colab": {
          "base_uri": "https://localhost:8080/"
        }
      },
      "execution_count": null,
      "outputs": [
        {
          "output_type": "stream",
          "name": "stdout",
          "text": [
            "Mean: 7.949299999999999 \n",
            " Median:7.9 \n",
            " Standard Deviation:0.2754912074920095\n"
          ]
        }
      ]
    },
    {
      "cell_type": "markdown",
      "source": [
        "3. Which director has directed the most number of movies?"
      ],
      "metadata": {
        "id": "d_k1zoajTxyx"
      }
    },
    {
      "cell_type": "code",
      "source": [
        "most_movies = movies['Director'].value_counts().idxmax()\n",
        "print(most_movies)"
      ],
      "metadata": {
        "id": "-gvnNqSsT88L",
        "outputId": "02de5db9-aa49-425f-a824-08850055756e",
        "colab": {
          "base_uri": "https://localhost:8080/"
        }
      },
      "execution_count": null,
      "outputs": [
        {
          "output_type": "stream",
          "name": "stdout",
          "text": [
            "Alfred Hitchcock\n"
          ]
        }
      ]
    },
    {
      "cell_type": "markdown",
      "source": [
        "4. Name the Movie which has the highest Runtime ?"
      ],
      "metadata": {
        "id": "zGHeeFZnT-yx"
      }
    },
    {
      "cell_type": "code",
      "source": [
        "movies['Runtime_minutes'] = movies['Runtime'].apply(lambda x: int(x.split()[0]))\n",
        "highest_runtime_name = movies.loc[movies['Runtime_minutes'].idxmax(), 'Series_Title']\n",
        "print(highest_runtime_name)"
      ],
      "metadata": {
        "id": "-1BAOzXoUKL1",
        "outputId": "7435717e-3771-4cef-85b6-efce330ca865",
        "colab": {
          "base_uri": "https://localhost:8080/"
        }
      },
      "execution_count": null,
      "outputs": [
        {
          "output_type": "stream",
          "name": "stdout",
          "text": [
            "Gangs of Wasseypur\n"
          ]
        }
      ]
    },
    {
      "cell_type": "markdown",
      "source": [
        "5. How many movies are released after year 2000 and have IMDB rating > 8.5 ?"
      ],
      "metadata": {
        "id": "ast-zD1gULUS"
      }
    },
    {
      "cell_type": "code",
      "source": [
        "movies_after_2000_IMDB_85 = movies[movies['Released_Year'].apply(lambda x: int(x) > 2000 if x.isdigit() else False) & (movies['IMDB_Rating'] > 8.5)]\n",
        "num_movies_after_2000_IMDB_85 = movies_after_2000_IMDB_85.shape[0]\n",
        "print(\"Number of movies are released after year 2000 and have IMDB rating > 8.5\", num_movies_after_2000_IMDB_85)"
      ],
      "metadata": {
        "id": "aBbuK0GhUZtK",
        "outputId": "ba011186-5a0b-411d-80d2-028cac6815e3",
        "colab": {
          "base_uri": "https://localhost:8080/"
        }
      },
      "execution_count": null,
      "outputs": [
        {
          "output_type": "stream",
          "name": "stdout",
          "text": [
            "Number of movies are released after year 2000 and have IMDB rating > 8.5 11\n"
          ]
        }
      ]
    },
    {
      "cell_type": "markdown",
      "source": [
        "Using seaborn make different types of plots, observe the trend and answer the questions.\n",
        "6. Make a countplot of Movies directed by top 5 directors."
      ],
      "metadata": {
        "id": "jYq9gv3aUl1u"
      }
    },
    {
      "cell_type": "code",
      "source": [
        "top_5_directors = movies['Director'].value_counts().head(5).index\n",
        "sns.countplot(data=movies[movies['Director'].isin(top_5_directors)], x='Director')"
      ],
      "metadata": {
        "id": "WOYH5X29ViUR",
        "outputId": "b29fabaa-55ee-4771-f42f-6d094a05bb09",
        "colab": {
          "base_uri": "https://localhost:8080/",
          "height": 466
        }
      },
      "execution_count": null,
      "outputs": [
        {
          "output_type": "execute_result",
          "data": {
            "text/plain": [
              "<Axes: xlabel='Director', ylabel='count'>"
            ]
          },
          "metadata": {},
          "execution_count": 14
        },
        {
          "output_type": "display_data",
          "data": {
            "text/plain": [
              "<Figure size 640x480 with 1 Axes>"
            ],
            "image/png": "[encoded data removed]"
          },
          "metadata": {}
        }
      ]
    },
    {
      "cell_type": "markdown",
      "source": [
        "7. Make a plot to analyze distribution of IMDB rating?"
      ],
      "metadata": {
        "id": "caUYiLeHVjIf"
      }
    },
    {
      "cell_type": "code",
      "source": [
        "sns.histplot(data=movies, x='IMDB_Rating')"
      ],
      "metadata": {
        "id": "c12iHvlLV9PR",
        "outputId": "94bef153-d842-4465-d904-e0be684527e2",
        "colab": {
          "base_uri": "https://localhost:8080/",
          "height": 467
        }
      },
      "execution_count": null,
      "outputs": [
        {
          "output_type": "execute_result",
          "data": {
            "text/plain": [
              "<Axes: xlabel='IMDB_Rating', ylabel='Count'>"
            ]
          },
          "metadata": {},
          "execution_count": 15
        },
        {
          "output_type": "display_data",
          "data": {
            "text/plain": [
              "<Figure size 640x480 with 1 Axes>"
            ],
            "image/png": "[encoded data removed]"
          },
          "metadata": {}
        }
      ]
    },
    {
      "cell_type": "markdown",
      "source": [
        "8. What type of Genre has the highest IMDB rating?"
      ],
      "metadata": {
        "id": "dXCoPuYlWISU"
      }
    },
    {
      "cell_type": "code",
      "source": [
        "movies.groupby('Genre')['IMDB_Rating'].mean().idxmax()\n"
      ],
      "metadata": {
        "id": "0r9cKE7fWjBU",
        "outputId": "cf02b752-b8cf-4745-f727-edb50e6cc7c2",
        "colab": {
          "base_uri": "https://localhost:8080/",
          "height": 36
        }
      },
      "execution_count": null,
      "outputs": [
        {
          "output_type": "execute_result",
          "data": {
            "text/plain": [
              "'Animation, Drama, War'"
            ],
            "application/vnd.google.colaboratory.intrinsic+json": {
              "type": "string"
            }
          },
          "metadata": {},
          "execution_count": 16
        }
      ]
    },
    {
      "cell_type": "markdown",
      "source": [
        "9. Name the top 5 movies that have earned highest Meta score."
      ],
      "metadata": {
        "id": "Ff2urhAhWrHO"
      }
    },
    {
      "cell_type": "code",
      "source": [
        "movies.nlargest(5, 'Meta_score')['Series_Title']"
      ],
      "metadata": {
        "id": "lta342_iWxLd",
        "outputId": "28ede251-df04-4283-e435-4eb7238f9f66",
        "colab": {
          "base_uri": "https://localhost:8080/"
        }
      },
      "execution_count": null,
      "outputs": [
        {
          "output_type": "execute_result",
          "data": {
            "text/plain": [
              "1           The Godfather\n",
              "50             Casablanca\n",
              "81            Rear Window\n",
              "116    Lawrence of Arabia\n",
              "119               Vertigo\n",
              "Name: Series_Title, dtype: object"
            ]
          },
          "metadata": {},
          "execution_count": 17
        }
      ]
    },
    {
      "cell_type": "markdown",
      "source": [
        "10. Of which Genre movie has the highest Runtime?"
      ],
      "metadata": {
        "id": "FPmZIOiwW5Jo"
      }
    },
    {
      "cell_type": "code",
      "source": [
        "movies['Runtime_minutes'] = movies['Runtime'].apply(lambda x: int(x.split()[0]))\n",
        "highest_runtime_genre = movies.loc[movies['Runtime_minutes'].idxmax(), 'Genre']\n",
        "print(highest_runtime_genre)"
      ],
      "metadata": {
        "id": "R5a1FemoXJuo",
        "outputId": "984b0a29-bec5-4276-c9b4-1ac101affa0c",
        "colab": {
          "base_uri": "https://localhost:8080/"
        }
      },
      "execution_count": null,
      "outputs": [
        {
          "output_type": "stream",
          "name": "stdout",
          "text": [
            "Action, Comedy, Crime\n"
          ]
        }
      ]
    },
    {
      "cell_type": "markdown",
      "source": [
        "**Using the knowledge about Plotly that you have  try making plots and analyse the data .Whenever you come across an interesting analysis please show the corresponding plot(using Plotly) and comment down your analysis for the same**"
      ],
      "metadata": {
        "id": "B_NatnajpeBE"
      }
    },
    {
      "cell_type": "code",
      "source": [
        "# Plotly is a Python library for creating interactive data visualizations. It can make various types of plots and is built on top of other libraries like Matplotlib and Pandas. Here’s an example of creating a scatter plot with Plotly:\n",
        "\n",
        "import plotly.express as px\n",
        "fig = px.scatter(data_frame=data, x='x_column', y='y_column')\n",
        "fig.show()\n",
        "# This code imports Plotly, creates a scatter plot using data from a DataFrame, and displays the plot."
      ],
      "metadata": {
        "id": "eGoTOAWvpfIu"
      },
      "execution_count": null,
      "outputs": []
    }
  ]
}