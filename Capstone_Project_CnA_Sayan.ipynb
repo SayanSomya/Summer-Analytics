{
  "nbformat": 4,
  "nbformat_minor": 0,
  "metadata": {
    "colab": {
      "provenance": [],
      "gpuType": "T4"
    },
    "kernelspec": {
      "name": "python3",
      "display_name": "Python 3"
    },
    "language_info": {
      "name": "python"
    },
    "accelerator": "GPU"
  },
  "cells": [
    {
      "cell_type": "code",
      "execution_count": null,
      "metadata": {
        "id": "JzgWLp_VaoVW"
      },
      "outputs": [],
      "source": [
        "import pandas as pd\n",
        "from sklearn.preprocessing import LabelEncoder\n",
        "\n",
        "#different Classifiers\n",
        "\n",
        "\n",
        "from sklearn.svm import SVC\n",
        "from sklearn.naive_bayes import GaussianNB\n",
        "from sklearn.linear_model import LogisticRegression\n",
        "from sklearn.neighbors import KNeighborsClassifier\n",
        "from sklearn.tree import DecisionTreeClassifier\n",
        "from sklearn.ensemble import RandomForestClassifier\n",
        "from xgboost import XGBClassifier, XGBRFClassifier\n",
        "from xgboost import plot_tree, plot_importance\n",
        "from sklearn.ensemble import AdaBoostClassifier"
      ]
    },
    {
      "cell_type": "code",
      "source": [
        "df = pd.read_csv('/content/Train_Data.csv')"
      ],
      "metadata": {
        "id": "Z-s9ipo_ateY"
      },
      "execution_count": null,
      "outputs": []
    },
    {
      "cell_type": "code",
      "source": [
        "\n",
        "# # Split the data into features (X) and target variable (y)\n",
        "\n",
        "X_train = df.drop('pred', axis=1)\n",
        "y_train = df['pred']\n",
        "\n",
        "# # Load the test data from CSV file\n",
        "\n",
        "test_data = pd.read_csv('/content/Test_Data.csv')\n",
        "\n",
        "X_test = test_data.drop('index', axis=1)\n",
        "\n",
        "X_train = X_train.apply(LabelEncoder().fit_transform)\n",
        "X_test = X_test.apply(LabelEncoder().fit_transform)"
      ],
      "metadata": {
        "id": "rrLvzFaQfAmk"
      },
      "execution_count": null,
      "outputs": []
    },
    {
      "cell_type": "code",
      "source": [
        "# Create an instance of your model MultinomialNB\n",
        "from sklearn.naive_bayes import MultinomialNB\n",
        "model = MultinomialNB(alpha=0.001)\n",
        "model.fit(X_train, y_train)\n",
        "pred1 = model.predict(X_test)\n",
        "print(pred1)"
      ],
      "metadata": {
        "colab": {
          "base_uri": "https://localhost:8080/"
        },
        "id": "Kvq3yL3ChR-5",
        "outputId": "dbe537cf-7d9b-4585-f1b7-f2202aa87133"
      },
      "execution_count": null,
      "outputs": [
        {
          "output_type": "stream",
          "name": "stdout",
          "text": [
            "[1 0 0 ... 0 0 0]\n"
          ]
        }
      ]
    },
    {
      "cell_type": "code",
      "source": [
        "# # XGBRFClassifier\n",
        "xgbrf = XGBRFClassifier()\n",
        "xgbrf.fit(X_train, y_train)\n",
        "pred2 = xgbrf.predict(X_test)\n",
        "print(pred2)\n"
      ],
      "metadata": {
        "colab": {
          "base_uri": "https://localhost:8080/"
        },
        "id": "F3Dlb1AIkE3D",
        "outputId": "046c31c9-77e2-495f-f860-274011c4b5d0"
      },
      "execution_count": null,
      "outputs": [
        {
          "output_type": "stream",
          "name": "stdout",
          "text": [
            "[0 0 0 ... 0 0 0]\n"
          ]
        }
      ]
    },
    {
      "cell_type": "code",
      "source": [
        "#YOUR CODE HERE\n",
        "dtc1 = DecisionTreeClassifier(criterion='gini', max_depth=10, random_state=0)\n",
        "dtc1.fit(X_train, y_train)\n",
        "pred3 = dtc1.predict(X_test)\n",
        "print(pred3)\n"
      ],
      "metadata": {
        "colab": {
          "base_uri": "https://localhost:8080/"
        },
        "id": "SoNKovqYkMyz",
        "outputId": "dda36853-02fe-47c5-a277-e48867f88984"
      },
      "execution_count": null,
      "outputs": [
        {
          "output_type": "stream",
          "name": "stdout",
          "text": [
            "[0 0 0 ... 0 0 0]\n"
          ]
        }
      ]
    },
    {
      "cell_type": "code",
      "source": [
        "# Naive Bayes: GaussianNB\n",
        "\n",
        "gnb = GaussianNB()\n",
        "gnb.fit(X_train, y_train)\n",
        "pred4 = gnb.predict(X_test)\n",
        "print(pred4)\n",
        "\n",
        "# KNN: KNeighborsClassifier\n",
        "\n",
        "knc = KNeighborsClassifier()\n",
        "knc.fit(X_train, y_train)\n",
        "pred5 = knc.predict(X_test)\n",
        "print(pred5)\n",
        "\n",
        "# Decission trees: DecisionTreeClassifier\n",
        "\n",
        "dtc = DecisionTreeClassifier()\n",
        "dtc.fit(X_train, y_train)\n",
        "pred6 = dtc.predict(X_test)\n",
        "print(pred6)"
      ],
      "metadata": {
        "colab": {
          "base_uri": "https://localhost:8080/"
        },
        "id": "drxPIkQlkV-3",
        "outputId": "d8c54bf3-216e-45a9-f92b-3a4027f5926a"
      },
      "execution_count": null,
      "outputs": [
        {
          "output_type": "stream",
          "name": "stdout",
          "text": [
            "[0 0 0 ... 0 0 0]\n",
            "[0 0 0 ... 0 0 0]\n",
            "[0 0 1 ... 0 0 1]\n"
          ]
        }
      ]
    },
    {
      "cell_type": "code",
      "source": [
        "# Random Forest\n",
        "rfc = RandomForestClassifier(n_estimators=1000, max_depth=10, random_state=0)\n",
        "rfc.fit(X_train, y_train)\n",
        "pred7 = rfc.predict(X_test)\n",
        "print(pred7)"
      ],
      "metadata": {
        "colab": {
          "base_uri": "https://localhost:8080/"
        },
        "id": "6JraftFIkYjO",
        "outputId": "bb380e5e-33c7-442c-ae7e-c7e98a52d5f8"
      },
      "execution_count": null,
      "outputs": [
        {
          "output_type": "stream",
          "name": "stdout",
          "text": [
            "[0 0 0 ... 0 0 0]\n"
          ]
        }
      ]
    },
    {
      "cell_type": "code",
      "source": [
        "# AdaBoostClassifier\n",
        "ada_boost = AdaBoostClassifier(n_estimators=1000, random_state=0)\n",
        "ada_boost.fit(X_train, y_train)\n",
        "pred8 = ada_boost.predict(X_test)\n",
        "print(pred8)"
      ],
      "metadata": {
        "colab": {
          "base_uri": "https://localhost:8080/"
        },
        "id": "fyYK1543kahU",
        "outputId": "074733d3-c95a-4ce8-c496-92014d517dd8"
      },
      "execution_count": null,
      "outputs": [
        {
          "output_type": "stream",
          "name": "stdout",
          "text": [
            "[0 1 0 ... 0 0 0]\n"
          ]
        }
      ]
    },
    {
      "cell_type": "code",
      "source": [
        "lg = LogisticRegression(random_state=0, solver='lbfgs', multi_class='multinomial')\n",
        "lg.fit(X_train, y_train)\n",
        "pred9 = lg.predict(X_test)\n",
        "print(pred9)"
      ],
      "metadata": {
        "colab": {
          "base_uri": "https://localhost:8080/"
        },
        "id": "xH3EdhcfkdWS",
        "outputId": "dd696921-f1a4-417f-8ab2-8e7ea082d4c5"
      },
      "execution_count": null,
      "outputs": [
        {
          "output_type": "stream",
          "name": "stdout",
          "text": [
            "[0 0 0 ... 0 0 0]\n"
          ]
        }
      ]
    },
    {
      "cell_type": "code",
      "source": [
        "# XGBClassifier\n",
        "\n",
        "xgb = XGBClassifier(n_estimators=1000, learning_rate=100)\n",
        "xgb.fit(X_train, y_train)\n",
        "pred10 = xgb.predict(X_test)\n",
        "print(pred10)"
      ],
      "metadata": {
        "colab": {
          "base_uri": "https://localhost:8080/"
        },
        "id": "bfEkv6pzkJc7",
        "outputId": "5011bdb4-e7d9-490c-f7af-1fd6fa7fe100"
      },
      "execution_count": null,
      "outputs": [
        {
          "output_type": "stream",
          "name": "stdout",
          "text": [
            "[0 0 0 ... 0 0 0]\n"
          ]
        }
      ]
    },
    {
      "cell_type": "code",
      "source": [
        "# SVCClassifier\n",
        "svc = SVC()\n",
        "svc.fit(X_train, y_train)\n",
        "pred11 = svc.predict(X_test)\n",
        "print(pred11)"
      ],
      "metadata": {
        "colab": {
          "base_uri": "https://localhost:8080/"
        },
        "id": "x_zYQxyLdJLD",
        "outputId": "bfe4f2f9-784b-4089-f1ad-d4b85cf820d0"
      },
      "execution_count": null,
      "outputs": [
        {
          "output_type": "stream",
          "name": "stdout",
          "text": [
            "[0 0 0 ... 0 0 0]\n"
          ]
        }
      ]
    },
    {
      "cell_type": "code",
      "source": [
        "output_data =pd.DataFrame(pred7, columns=['pred7'])\n",
        "output_data.to_csv('pred7.csv',index=False)"
      ],
      "metadata": {
        "id": "rhs93IumZ6by"
      },
      "execution_count": null,
      "outputs": []
    }
  ]
}